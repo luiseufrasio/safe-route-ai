{
  "nbformat": 4,
  "nbformat_minor": 0,
  "metadata": {
    "colab": {
      "provenance": [],
      "mount_file_id": "12jSJgIzTESPTMHwPhOxY1j-AfKOksGh_",
      "authorship_tag": "ABX9TyPYjO6ME9Los/HQoT6os3TH",
      "include_colab_link": true
    },
    "kernelspec": {
      "name": "python3",
      "display_name": "Python 3"
    },
    "language_info": {
      "name": "python"
    }
  },
  "cells": [
    {
      "cell_type": "markdown",
      "metadata": {
        "id": "view-in-github",
        "colab_type": "text"
      },
      "source": [
        "<a href=\"https://colab.research.google.com/github/luiseufrasio/safe-route-ai/blob/main/safe_route.ipynb\" target=\"_parent\"><img src=\"https://colab.research.google.com/assets/colab-badge.svg\" alt=\"Open In Colab\"/></a>"
      ]
    },
    {
      "cell_type": "markdown",
      "source": [
        "###Instalando o SDK do Google"
      ],
      "metadata": {
        "id": "o-PQiXYhMJqT"
      }
    },
    {
      "cell_type": "code",
      "execution_count": 1,
      "metadata": {
        "id": "MnPOIfx2K33w"
      },
      "outputs": [],
      "source": [
        "!pip install -q -U google-generativeai"
      ]
    },
    {
      "cell_type": "markdown",
      "source": [
        "###Configurando a API KEY do Google Gemini"
      ],
      "metadata": {
        "id": "YAmYYw8tMYoe"
      }
    },
    {
      "cell_type": "code",
      "source": [
        "import google.generativeai as genai\n",
        "from google.colab import userdata\n",
        "\n",
        "genai.configure(api_key=userdata.get(\"SECRET_KEY\"))"
      ],
      "metadata": {
        "id": "U6p9HJaUMuC3"
      },
      "execution_count": 2,
      "outputs": []
    },
    {
      "cell_type": "markdown",
      "source": [
        "###Criando a lista de mapas e o método para upload a partir do caminho no Colab"
      ],
      "metadata": {
        "id": "afJoW0ciTOal"
      }
    },
    {
      "cell_type": "code",
      "source": [
        "from pathlib import Path\n",
        "import hashlib\n",
        "\n",
        "uploaded_maps = []\n",
        "def upload_if_needed(pathname: str) -> list[str]:\n",
        "  path = Path(pathname)\n",
        "  hash_id = hashlib.sha256(path.read_bytes()).hexdigest()\n",
        "  try:\n",
        "    existing_file = genai.get_file(name=hash_id)\n",
        "    return [existing_file]\n",
        "  except:\n",
        "    pass\n",
        "  uploaded_maps.append(genai.upload_file(path=path, display_name=hash_id))\n",
        "  return [uploaded_maps[-1]]"
      ],
      "metadata": {
        "id": "389EPdbPSNAc"
      },
      "execution_count": 3,
      "outputs": []
    },
    {
      "cell_type": "markdown",
      "source": [
        "#Carregando o mapa topográfico do Estado do RS\n",
        "##### Fonte: https://pt-br.topographic-map.com/map-pb651/Rio-Grande-do-Sul/"
      ],
      "metadata": {
        "id": "0x3m5_FrdvQh"
      }
    },
    {
      "cell_type": "code",
      "source": [
        "rs_input_parts = [\"input: \", *upload_if_needed(\"/content/RS-Metropolitana.png\"), \"Analise esse mapa TOPOGRÁFICO de cores do Rio Grande de Sul, tente identificar as cidades que estão nele e me dê sua altitude aproximada com base nas cores. Mostre o resultado ordenado pela altitude encontrada.\"]"
      ],
      "metadata": {
        "id": "k4H_WhE_Y_E7"
      },
      "execution_count": 4,
      "outputs": []
    },
    {
      "cell_type": "markdown",
      "source": [
        "#Setup do Modelo"
      ],
      "metadata": {
        "id": "p-q2Bbm_gBTv"
      }
    },
    {
      "cell_type": "code",
      "source": [
        "# Set up the model\n",
        "generation_config = {\n",
        "  \"temperature\": 1,\n",
        "  \"top_p\": 0.95,\n",
        "  \"top_k\": 0,\n",
        "  \"max_output_tokens\": 8192,\n",
        "}\n",
        "\n",
        "safety_settings = [\n",
        "  {\n",
        "    \"category\": \"HARM_CATEGORY_HARASSMENT\",\n",
        "    \"threshold\": \"BLOCK_MEDIUM_AND_ABOVE\"\n",
        "  },\n",
        "  {\n",
        "    \"category\": \"HARM_CATEGORY_HATE_SPEECH\",\n",
        "    \"threshold\": \"BLOCK_MEDIUM_AND_ABOVE\"\n",
        "  },\n",
        "  {\n",
        "    \"category\": \"HARM_CATEGORY_SEXUALLY_EXPLICIT\",\n",
        "    \"threshold\": \"BLOCK_MEDIUM_AND_ABOVE\"\n",
        "  },\n",
        "  {\n",
        "    \"category\": \"HARM_CATEGORY_DANGEROUS_CONTENT\",\n",
        "    \"threshold\": \"BLOCK_MEDIUM_AND_ABOVE\"\n",
        "  },\n",
        "]\n",
        "\n",
        "model = genai.GenerativeModel(model_name=\"gemini-1.5-pro-latest\",\n",
        "                              generation_config=generation_config,\n",
        "                              safety_settings=safety_settings)"
      ],
      "metadata": {
        "id": "kN0hTrB2gLp-"
      },
      "execution_count": 5,
      "outputs": []
    },
    {
      "cell_type": "markdown",
      "source": [
        "#Executando a pesquisa e mostrando a resposta do modelo"
      ],
      "metadata": {
        "id": "xxsZkqiZgbd3"
      }
    },
    {
      "cell_type": "code",
      "source": [
        "response1 = model.generate_content(rs_input_parts)"
      ],
      "metadata": {
        "collapsed": true,
        "id": "WIHhEb01ge_S"
      },
      "execution_count": 6,
      "outputs": []
    },
    {
      "cell_type": "code",
      "source": [
        "from IPython.display import Markdown\n",
        "\n",
        "display(Markdown(response1.text))"
      ],
      "metadata": {
        "colab": {
          "base_uri": "https://localhost:8080/",
          "height": 940
        },
        "id": "ZitnlAdphsEv",
        "outputId": "1c393a65-1e08-4270-9745-a035a4563d9b"
      },
      "execution_count": 7,
      "outputs": [
        {
          "output_type": "display_data",
          "data": {
            "text/plain": [
              "<IPython.core.display.Markdown object>"
            ],
            "text/markdown": "## Análise do Mapa Topográfico do Rio Grande do Sul:\n\nCom base na análise do mapa topográfico fornecido, identifiquei as seguintes cidades e suas altitudes aproximadas, ordenadas da maior para a menor altitude:\n\n**Cidade** | **Altitude Aproximada (m)** | **Cor no Mapa**\n------- | -------- | --------\nTorres | 1049 | Vermelho escuro \nSão Francisco de Paula | 967 | Vermelho\nCanela | ~967 | Vermelho\nTrês Coroas | ~887 | Vermelho claro\nTrês Cachoeiras | ~809 | Laranja escuro\nArroio do Sal | ~734 | Laranja\nNova Petrópolis | ~662 | Amarelo escuro\nGravataí | ~592 | Amarelo esverdeado\nSão Leopoldo | ~524 | Verde claro\nNovo Hamburgo | ~524 | Verde claro\nCachoeirinha | ~459 | Verde azulado\nCanoas | ~459 | Verde azulado\nViamão | ~397 | Azul claro\nPorto Alegre | ~339 | Azul\nOsório | ~283 | Azul escuro\nTramandaí | ~231 | Azul escuro\nCidreira | ~182 | Azul muito escuro\nBalneário Pinhal | ~137 | Azul muito escuro\nPalmares do Sul | ~97 | Azul muito escuro próximo ao ciano\nBarra do Ribeiro | ~61 | Ciano\nGuaíba | ~31 | Ciano claro\nLagoa do Casamento | ~8 | Azul muito claro\n\n**Observações:**\n\n* As altitudes são aproximadas, baseadas na escala de cores do mapa. A precisão é limitada pela resolução do mapa e pela variação de altitude dentro de cada cidade. \n* Cidades menores e com menor variação de altitude podem ser difíceis de analisar com precisão.\n* A lista inclui apenas algumas das cidades presentes no mapa, focando nas mais visíveis e com altitudes mais distintas.\n\nEspero que esta análise seja útil! 😊 \n"
          },
          "metadata": {}
        }
      ]
    },
    {
      "cell_type": "markdown",
      "source": [
        "#Perguntando a Pessoa qual cidade ela está"
      ],
      "metadata": {
        "id": "xFKqwmqFiQJA"
      }
    },
    {
      "cell_type": "code",
      "source": [
        "lista_cidades = ['Canoas', 'Lajeado', 'Pelotas', 'Porto Alegre', 'Rio Grande', 'São Leopoldo']\n",
        "cidade = input(\"Em qual dessas cidades você está: [\" + \", \".join(lista_cidades) + \"] ?\\t\")\n",
        "\n",
        "while cidade not in lista_cidades:\n",
        "  print(\"A cidade escolhida não está na lista. Escolha novamente...\")\n",
        "  cidade = input(\"[\" + \", \".join(lista_cidades) + \"] \\t\")"
      ],
      "metadata": {
        "colab": {
          "base_uri": "https://localhost:8080/"
        },
        "id": "dKqiKmt5ibo2",
        "outputId": "6bd426b2-76f3-4d90-e14c-414487b8baa4"
      },
      "execution_count": 8,
      "outputs": [
        {
          "name": "stdout",
          "output_type": "stream",
          "text": [
            "Em qual dessas cidades você está: [Canoas, Lajeado, Pelotas, Porto Alegre, Rio Grande, São Leopoldo] ?\tPorto Alegre\n"
          ]
        }
      ]
    },
    {
      "cell_type": "markdown",
      "source": [
        "#Saindo da cidade escolhida para cidades com altitude acima dos 100m"
      ],
      "metadata": {
        "id": "i0t-I04uk7mp"
      }
    },
    {
      "cell_type": "code",
      "source": [
        "destinos = ['Torres', 'São Francisco de Paula', 'Canela', 'Três Coroas', 'Igrejinha', 'Taquara', 'Rolante', 'Osório', 'Santo Antônio da Patrulha', 'Tramandaí']\n",
        "cidade_input = \"Trace rotas partindo da cidade \" + cidade + \" no estado do Rio Grande do Sul para 3 cidades nessa lista: [\" + \", \".join(destinos) + \"]. Evite caminhos que possam passar por pontes.\"\n",
        "\n",
        "response2 = model.generate_content(cidade_input)\n",
        "\n",
        "display(Markdown(response2.text))"
      ],
      "metadata": {
        "colab": {
          "base_uri": "https://localhost:8080/",
          "height": 596
        },
        "id": "sXrW4v-p2FD0",
        "outputId": "6f916c7a-e083-4d30-872e-b7ec689fd782"
      },
      "execution_count": 9,
      "outputs": [
        {
          "output_type": "display_data",
          "data": {
            "text/plain": [
              "<IPython.core.display.Markdown object>"
            ],
            "text/markdown": "## Rotas a partir de Porto Alegre sem pontes:\n\n**Observação:** Evitar completamente pontes em algumas rotas é desafiador devido à geografia da região. As rotas abaixo minimizam o uso de pontes, mas pode ser impossível evitá-las completamente em certos trechos. \n\n**1. Porto Alegre - Torres:**\n\n* **Sem passar por pontes (impossível):** A rota mais direta para Torres a partir de Porto Alegre cruza a Ponte do Guaíba. É impossível chegar a Torres sem cruzar pelo menos uma ponte.\n* **Minimizando pontes:**\n    * Seguir pela BR-116 até a RS-040 em Viamão.\n    * Continuar pela RS-040 até Santo Antônio da Patrulha e seguir pela RS-486 (Rota do Sol) até Torres.\n    * **Observação:** Haverá pontes menores ao longo da RS-040 e RS-486.\n\n**2. Porto Alegre - São Francisco de Paula:**\n\n* **Sem passar por pontes (impossível):** As principais rotas para São Francisco de Paula cruzam a Ponte do Guaíba.\n* **Minimizando pontes:**\n    * Seguir pela BR-116 até a RS-020 em São Leopoldo.\n    * Seguir pela RS-020, passando por Taquara, até chegar a São Francisco de Paula. \n    * **Observação:** Haverá pontes menores ao longo da RS-020.\n\n**3. Porto Alegre - Tramandaí:**\n\n* **Sem passar por pontes (impossível):**  A rota mais direta para Tramandaí cruza a Ponte do Guaíba.\n* **Minimizando pontes:**\n    * Seguir pela BR-116 até a RS-040 em Viamão.\n    * Continuar pela RS-040 até Santo Antônio da Patrulha e seguir pela RS-786 até Tramandaí.\n    * **Observação:** Haverá pontes menores ao longo da RS-040 e RS-786.\n\n**Recomendações:**\n\n* Utilize um aplicativo de GPS como o Google Maps ou Waze para visualizar as rotas e possíveis pontes ao longo do caminho.\n* Ajuste as rotas conforme necessário, buscando alternativas que minimizem o cruzamento de pontes.\n* Esteja ciente de que, em alguns casos, evitar pontes completamente pode aumentar significativamente a distância e o tempo de viagem. \n\n**Lembre-se:**  As condições das estradas e as rotas disponíveis podem mudar. Consulte informações atualizadas antes de iniciar sua viagem."
          },
          "metadata": {}
        }
      ]
    },
    {
      "cell_type": "markdown",
      "source": [
        "#Chat Final para mais dúvidas"
      ],
      "metadata": {
        "id": "ihPvJ_t97HHH"
      }
    },
    {
      "cell_type": "code",
      "source": [
        "chat = model.start_chat(history=[\n",
        "    {\"role\": \"user\", \"parts\": [rs_input_parts[2]]},\n",
        "    {\"role\": \"model\", \"parts\": [response1.text]},\n",
        "    {\"role\": \"user\", \"parts\": [cidade_input]},\n",
        "    {\"role\": \"model\", \"parts\": [response2.text]}])\n",
        "sair = \"[digite 'sair' para finalizar a conversa] \"\n",
        "prompt = input(\"Ajudo em algo mais? \" + sair)\n",
        "\n",
        "while prompt != 'sair':\n",
        "  response3 = chat.send_message(prompt)\n",
        "  print(\"Modelo: \")\n",
        "  display(Markdown(response3.text))\n",
        "\n",
        "  chat.history.append({\"role\": \"user\", \"parts\": [prompt]})\n",
        "  chat.history.append({\"role\": \"model\", \"parts\": [response3.text]})\n",
        "\n",
        "  print(\"[digite 'sair' para finalizar a conversa]\\n\")\n",
        "  prompt = input(\"Você: \")"
      ],
      "metadata": {
        "colab": {
          "base_uri": "https://localhost:8080/",
          "height": 271
        },
        "id": "6JsiNaFolCRu",
        "outputId": "ad4025af-c3d5-45bf-8e33-bf5c356272f5"
      },
      "execution_count": 17,
      "outputs": [
        {
          "output_type": "stream",
          "name": "stdout",
          "text": [
            "Ajudo em algo mais? [digite 'sair' para finalizar a conversa] Consegue mostrar no google maps a rota de Porto Alegre para Torres?\n",
            "Modelo: \n"
          ]
        },
        {
          "output_type": "display_data",
          "data": {
            "text/plain": [
              "<IPython.core.display.Markdown object>"
            ],
            "text/markdown": "Infelizmente, eu não consigo interagir diretamente com o Google Maps. Sou um modelo de linguagem e não tenho a capacidade de controlar aplicativos externos. \n\nPara visualizar a rota de Porto Alegre para Torres no Google Maps, siga estes passos:\n\n1. **Abra o Google Maps:** Acesse o site [https://www.google.com.br/maps](https://www.google.com.br/maps) ou abra o aplicativo em seu celular.\n2. **Digite os locais:** No campo de busca, digite \"Porto Alegre\" e, em seguida, \"Torres, RS\".\n3. **Selecione a rota:** O Google Maps mostrará a rota mais rápida entre as duas cidades. Você pode clicar em \"Opções de rota\" para personalizar o trajeto, como evitar pedágios ou balsas.\n\nEspero que isso ajude! 😊 \n"
          },
          "metadata": {}
        },
        {
          "name": "stdout",
          "output_type": "stream",
          "text": [
            "[digite 'sair' para finalizar a conversa]\n",
            "\n",
            "Você: sair\n"
          ]
        }
      ]
    }
  ]
}