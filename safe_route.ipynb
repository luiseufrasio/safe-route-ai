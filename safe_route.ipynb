{
  "nbformat": 4,
  "nbformat_minor": 0,
  "metadata": {
    "colab": {
      "provenance": [],
      "mount_file_id": "12jSJgIzTESPTMHwPhOxY1j-AfKOksGh_",
      "authorship_tag": "ABX9TyPnguxXKbUWqab5ej1xAgpn",
      "include_colab_link": true
    },
    "kernelspec": {
      "name": "python3",
      "display_name": "Python 3"
    },
    "language_info": {
      "name": "python"
    }
  },
  "cells": [
    {
      "cell_type": "markdown",
      "metadata": {
        "id": "view-in-github",
        "colab_type": "text"
      },
      "source": [
        "<a href=\"https://colab.research.google.com/github/luiseufrasio/safe-route-ai/blob/main/safe_route.ipynb\" target=\"_parent\"><img src=\"https://colab.research.google.com/assets/colab-badge.svg\" alt=\"Open In Colab\"/></a>"
      ]
    },
    {
      "cell_type": "markdown",
      "source": [
        "###Instalando o SDK do Google"
      ],
      "metadata": {
        "id": "o-PQiXYhMJqT"
      }
    },
    {
      "cell_type": "code",
      "execution_count": 59,
      "metadata": {
        "id": "MnPOIfx2K33w"
      },
      "outputs": [],
      "source": [
        "!pip install -q -U google-generativeai"
      ]
    },
    {
      "cell_type": "markdown",
      "source": [
        "###Configurando a API KEY do Google Gemini"
      ],
      "metadata": {
        "id": "YAmYYw8tMYoe"
      }
    },
    {
      "cell_type": "code",
      "source": [
        "import google.generativeai as genai\n",
        "from google.colab import userdata\n",
        "\n",
        "genai.configure(api_key=userdata.get(\"SECRET_KEY\"))"
      ],
      "metadata": {
        "id": "U6p9HJaUMuC3"
      },
      "execution_count": 60,
      "outputs": []
    },
    {
      "cell_type": "markdown",
      "source": [
        "###Criando a lista de mapas e o método para upload a partir do caminho no Colab"
      ],
      "metadata": {
        "id": "afJoW0ciTOal"
      }
    },
    {
      "cell_type": "code",
      "source": [
        "from pathlib import Path\n",
        "import hashlib\n",
        "\n",
        "uploaded_maps = []\n",
        "def upload_if_needed(pathname: str) -> list[str]:\n",
        "  path = Path(pathname)\n",
        "  hash_id = hashlib.sha256(path.read_bytes()).hexdigest()\n",
        "  try:\n",
        "    existing_file = genai.get_file(name=hash_id)\n",
        "    return [existing_file]\n",
        "  except:\n",
        "    pass\n",
        "  uploaded_maps.append(genai.upload_file(path=path, display_name=hash_id))\n",
        "  return [uploaded_maps[-1]]"
      ],
      "metadata": {
        "id": "389EPdbPSNAc"
      },
      "execution_count": 61,
      "outputs": []
    },
    {
      "cell_type": "markdown",
      "source": [
        "#Carregando o mapa topográfico do Estado do RS\n",
        "##### Fonte: https://pt-br.topographic-map.com/map-pb651/Rio-Grande-do-Sul/"
      ],
      "metadata": {
        "id": "0x3m5_FrdvQh"
      }
    },
    {
      "cell_type": "code",
      "source": [
        "rs_input_parts = [\"input: \", *upload_if_needed(\"/content/RS-Metropolitana.png\"), \"Analise esse mapa TOPOGRÁFICO de cores do Rio Grande de Sul, tente identificar as cidades que estão nele e me dê sua altitude aproximada com base nas cores. Mostre o resultado ordenado pela altitude encontrada.\"]"
      ],
      "metadata": {
        "id": "k4H_WhE_Y_E7"
      },
      "execution_count": 87,
      "outputs": []
    },
    {
      "cell_type": "markdown",
      "source": [
        "#Setup do Modelo"
      ],
      "metadata": {
        "id": "p-q2Bbm_gBTv"
      }
    },
    {
      "cell_type": "code",
      "source": [
        "# Set up the model\n",
        "generation_config = {\n",
        "  \"temperature\": 1,\n",
        "  \"top_p\": 0.95,\n",
        "  \"top_k\": 0,\n",
        "  \"max_output_tokens\": 8192,\n",
        "}\n",
        "\n",
        "safety_settings = [\n",
        "  {\n",
        "    \"category\": \"HARM_CATEGORY_HARASSMENT\",\n",
        "    \"threshold\": \"BLOCK_MEDIUM_AND_ABOVE\"\n",
        "  },\n",
        "  {\n",
        "    \"category\": \"HARM_CATEGORY_HATE_SPEECH\",\n",
        "    \"threshold\": \"BLOCK_MEDIUM_AND_ABOVE\"\n",
        "  },\n",
        "  {\n",
        "    \"category\": \"HARM_CATEGORY_SEXUALLY_EXPLICIT\",\n",
        "    \"threshold\": \"BLOCK_MEDIUM_AND_ABOVE\"\n",
        "  },\n",
        "  {\n",
        "    \"category\": \"HARM_CATEGORY_DANGEROUS_CONTENT\",\n",
        "    \"threshold\": \"BLOCK_MEDIUM_AND_ABOVE\"\n",
        "  },\n",
        "]\n",
        "\n",
        "model = genai.GenerativeModel(model_name=\"gemini-1.5-pro-latest\",\n",
        "                              generation_config=generation_config,\n",
        "                              safety_settings=safety_settings)"
      ],
      "metadata": {
        "id": "kN0hTrB2gLp-"
      },
      "execution_count": 79,
      "outputs": []
    },
    {
      "cell_type": "markdown",
      "source": [
        "#Executando a pesquisa e mostrando a resposta do modelo"
      ],
      "metadata": {
        "id": "xxsZkqiZgbd3"
      }
    },
    {
      "cell_type": "code",
      "source": [
        "response1 = model.generate_content(rs_input_parts)"
      ],
      "metadata": {
        "collapsed": true,
        "id": "WIHhEb01ge_S"
      },
      "execution_count": 94,
      "outputs": []
    },
    {
      "cell_type": "code",
      "source": [
        "from IPython.display import Markdown\n",
        "\n",
        "display(Markdown(response1.text))"
      ],
      "metadata": {
        "colab": {
          "base_uri": "https://localhost:8080/",
          "height": 658
        },
        "id": "ZitnlAdphsEv",
        "outputId": "60666e83-79ec-4305-b3f0-0c173fee3ce6"
      },
      "execution_count": 95,
      "outputs": [
        {
          "output_type": "display_data",
          "data": {
            "text/plain": [
              "<IPython.core.display.Markdown object>"
            ],
            "text/markdown": "## Análise do Mapa Topográfico do Rio Grande do Sul:\n\nCom base no mapa topográfico fornecido, podemos identificar as seguintes cidades e suas altitudes aproximadas, ordenadas da maior para a menor altitude:\n\n**Cidade** | **Altitude (m)** | **Cor no Mapa**\n------- | -------- | --------\nTorres | 1049 | Vermelho Escuro\nSão Francisco de Paula | ~950 | Vermelho\nCanela | ~850 | Laranja Avermelhado\nTrês Coroas | ~750 | Laranja\nIgrejinha | ~650 | Amarelo Alaranjado\nTaquara | ~550 | Amarelo Esverdeado\nRolante | ~450 | Verde Claro\nOsório | ~350 | Verde Azulado\nSanto Antônio da Patrulha | ~250 | Azul Esverdeado\nTramandaí | ~150 | Azul Claro\nCidreira | ~100 | Azul Claro\nPalmares do Sul | ~50 | Azul Muito Claro\nBalneário Pinhal | ~10 | Azul Muito Claro\n \n**Observações:**\n* As altitudes são aproximadas, baseadas na escala de cores do mapa.\n* Nem todas as cidades são visíveis ou possuem nomes no mapa.\n* As cores do mapa representam faixas de altitude, e a transição entre as cores pode não ser perfeitamente precisa.\n\nEspero que esta análise seja útil! 😊 \n"
          },
          "metadata": {}
        }
      ]
    },
    {
      "cell_type": "markdown",
      "source": [
        "#Perguntando a Pessoa qual cidade ela está"
      ],
      "metadata": {
        "id": "xFKqwmqFiQJA"
      }
    },
    {
      "cell_type": "code",
      "source": [
        "lista_cidades = ['Canoas', 'Lajeado', 'Pelotas', 'Porto Alegre', 'Rio Grande', 'São Leopoldo']\n",
        "cidade = input(\"Em qual dessas cidades você está: [\" + \", \".join(lista_cidades) + \"] ?\\t\")\n",
        "\n",
        "while cidade not in lista_cidades:\n",
        "  print(\"A cidade escolhida não está na lista. Escolha novamente...\")\n",
        "  cidade = input(\"[\" + \", \".join(lista_cidades) + \"] \\t\")"
      ],
      "metadata": {
        "colab": {
          "base_uri": "https://localhost:8080/"
        },
        "id": "dKqiKmt5ibo2",
        "outputId": "7646a129-681c-4a2e-91da-88ef89fd638d"
      },
      "execution_count": 72,
      "outputs": [
        {
          "name": "stdout",
          "output_type": "stream",
          "text": [
            "Em qual dessas cidades você está: [Canoas, Lajeado, Pelotas, Porto Alegre, Rio Grande, São Leopoldo] ?\tRio Grande\n"
          ]
        }
      ]
    },
    {
      "cell_type": "markdown",
      "source": [
        "#Saindo da cidade escolhida para cidades com altitude acima dos 100m"
      ],
      "metadata": {
        "id": "i0t-I04uk7mp"
      }
    },
    {
      "cell_type": "code",
      "source": [
        "destinos = ['Torres', 'São Francisco de Paula', 'Canela', 'Três Coroas', 'Igrejinha', 'Taquara', 'Rolante', 'Osório', 'Santo Antônio da Patrulha', 'Tramandaí']\n",
        "cidade_input = \"Trace rotas partindo da cidade \" + cidade + \" no estado do Rio Grande do Sul para 3 cidades nessa lista: [\" + \", \".join(destinos) + \"]. Evite caminhos que possam passar por pontes.\"\n",
        "\n",
        "response2 = model.generate_content(cidade_input)\n",
        "\n",
        "display(Markdown(response2.text))"
      ],
      "metadata": {
        "colab": {
          "base_uri": "https://localhost:8080/",
          "height": 579
        },
        "id": "sXrW4v-p2FD0",
        "outputId": "fc6350a8-5346-4281-dec4-5ffa8a2fff16"
      },
      "execution_count": 97,
      "outputs": [
        {
          "output_type": "display_data",
          "data": {
            "text/plain": [
              "<IPython.core.display.Markdown object>"
            ],
            "text/markdown": "## Rotas partindo de Rio Grande - RS, evitando pontes:\n\nÉ importante notar que, devido à geografia da região, evitar pontes completamente pode ser extremamente difícil e, em alguns casos, impossível. As rotas a seguir minimizam o uso de pontes, mas algumas podem ser inevitáveis.\n\n**1. Rio Grande - Torres:**\n\n* Esta rota é direta pela RS-040, sem necessidade de pontes.\n\n**2. Rio Grande - São Francisco de Paula/Canela/Três Coroas:**\n\n* Infelizmente, para chegar a essas cidades, a travessia da Lagoa dos Patos por ponte é **inevitável**.\n* A rota mais comum utiliza a Ponte do Guaíba (BR-290) e segue pela BR-116 até as cidades desejadas.\n\n**3. Rio Grande - Igrejinha/Taquara/Rolante:**\n\n*  Assim como as cidades acima, a travessia da Lagoa dos Patos por ponte é **inevitável** para chegar a essas cidades.\n*  A rota mais comum utiliza a Ponte do Guaíba (BR-290) e segue pela BR-116 e, posteriormente, RS-239 para acessar as cidades.\n\n**4. Rio Grande - Osório:**\n\n* Esta rota é direta pela RS-040, sem necessidade de pontes.\n\n**5. Rio Grande - Santo Antônio da Patrulha:**\n\n*  Atravessar a Lagoa dos Patos por ponte é **inevitável**.\n* A rota mais comum utiliza a Ponte do Guaíba (BR-290) e segue pela BR-290 até Santo Antônio da Patrulha.\n\n**6. Rio Grande - Tramandaí:**\n\n* É possível evitar a Ponte do Guaíba utilizando a Rota do Sol (RS-486), que contorna a Lagoa dos Patos pelo litoral. \n* Esta rota pode ter trechos com pontes menores, mas evita a grande ponte sobre a Lagoa dos Patos. \n\n**Observações:**\n\n* É importante verificar as condições das estradas antes de viajar, especialmente na Rota do Sol, que pode ter trechos em obras ou com restrições de tráfego.\n* Utilizar aplicativos de navegação com a opção \"evitar pedágios\" pode auxiliar na identificação de rotas alternativas que minimizem a passagem por pontes, mas lembre-se de que a precisão destes aplicativos pode variar.\n\nEspero que essas informações sejam úteis para planejar suas viagens! \n"
          },
          "metadata": {}
        }
      ]
    },
    {
      "cell_type": "markdown",
      "source": [
        "#Chat Final para mais dúvidas"
      ],
      "metadata": {
        "id": "ihPvJ_t97HHH"
      }
    },
    {
      "cell_type": "code",
      "source": [
        "chat = model.start_chat(history=[rs_input_parts, response1, cidade_input, response2])\n",
        "sair = \"[digite 'sair' para finalizar a conversa]\"\n",
        "prompt = input(\"Ajudo em algo mais? \", sair)\n",
        "\n",
        "while prompt != 'sair':\n",
        "  response = chat.send_message(prompt)\n",
        "  print(\"Modelo: \")\n",
        "  display(Markdown(response.text))\n",
        "  print(\"[digite 'sair' para finalizar a conversa]\\n\")\n",
        "  prompt = input(\"Você: \")"
      ],
      "metadata": {
        "colab": {
          "base_uri": "https://localhost:8080/",
          "height": 221
        },
        "id": "6JsiNaFolCRu",
        "outputId": "23514b63-b958-4219-8260-6f71c06d87e8"
      },
      "execution_count": 90,
      "outputs": [
        {
          "output_type": "stream",
          "name": "stdout",
          "text": [
            "Modelo: \n"
          ]
        },
        {
          "output_type": "display_data",
          "data": {
            "text/plain": [
              "<IPython.core.display.Markdown object>"
            ],
            "text/markdown": "Infelizmente, não consigo analisar mapas visuais, identificar cidades ou traçar rotas de carro. Sou um modelo de linguagem e não possuo a capacidade de processar informações visuais como um mapa. \n\nPara obter rotas de carro e informações de elevação, você pode usar aplicativos de navegação como:\n\n* **Google Maps:** Permite traçar rotas, visualizar o terreno e obter informações de elevação.\n* **Waze:** Oferece navegação em tempo real e pode ajudar a evitar pontes.\n\nAo usar esses aplicativos, você pode inserir seu destino e especificar que deseja evitar pontes nas configurações de rota. \n"
          },
          "metadata": {}
        },
        {
          "name": "stdout",
          "output_type": "stream",
          "text": [
            "[digite 'sair' para finalizar a conversa]\n",
            "\n",
            "Você: sair\n"
          ]
        }
      ]
    }
  ]
}